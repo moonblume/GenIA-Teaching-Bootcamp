{
  "nbformat": 4,
  "nbformat_minor": 0,
  "metadata": {
    "colab": {
      "provenance": []
    },
    "kernelspec": {
      "name": "python3",
      "display_name": "Python 3"
    },
    "language_info": {
      "name": "python"
    }
  },
  "cells": [
    {
      "cell_type": "code",
      "source": [
        "import numpy as np\n",
        "\n",
        "def go_outside(temperature, rainy):\n",
        "\n",
        "\n",
        "  # Weights and bias\n",
        "  weight_temp = 0.6\n",
        "  weight_rain = 0.4\n",
        "  bias = 2.0\n",
        "\n",
        "  # Weighted sum of inputs\n",
        "  weighted_sum = (weight_temp * temperature) + (weight_rain * rainy) + bias\n",
        "\n",
        "  # Activation function\n",
        "  if weighted_sum >= 20:\n",
        "    return 1  # Go outside\n",
        "  else:\n",
        "    return 0  # Don't go outside\n",
        "\n",
        "\n",
        "temp = 70\n",
        "import numpy as np\n",
        "\n",
        "def go_outside(temperature, rainy):\n",
        "\n",
        "  # Weights and bias\n",
        "  weight_temp = 0.6\n",
        "  weight_rain = 0.4\n",
        "  bias = 2.0\n",
        "\n",
        "  weighted_sum = (weight_temp * temperature) + (weight_rain * rainy) + bias\n",
        "\n",
        "\n",
        "  if weighted_sum >= 20:\n",
        "    return 1\n",
        "  else:\n",
        "    return 0\n",
        "\n",
        "\n",
        "temp = 70\n",
        "is_rainy = 0\n",
        "decision = go_outside(temp, is_rainy)\n",
        "print(f\"Temperature: {temp}°F, Rainy: {is_rainy}, Decision: {'Go Outside' if decision == 1 else 'Dont Go Outside'}\")\n",
        "\n",
        "\n",
        "temp = 50\n",
        "is_rainy = 1\n",
        "decision = go_outside(temp, is_rainy)\n",
        "print(f\"Temperature: {temp}°F, Rainy: {is_rainy}, Decision: {'Go Outside' if decision == 1 else 'Dont Go Outside'}\")\n",
        "\n"
      ],
      "metadata": {
        "colab": {
          "base_uri": "https://localhost:8080/"
        },
        "id": "n765O64Ndzve",
        "outputId": "c639f1d9-a20b-4b3b-e9a1-442efefabc5c"
      },
      "execution_count": 3,
      "outputs": [
        {
          "output_type": "stream",
          "name": "stdout",
          "text": [
            "Temperature: 70°F, Rainy: 0, Decision: Go Outside\n",
            "Temperature: 50°F, Rainy: 1, Decision: Go Outside\n",
            "Temperature: 50°F, Rainy: 1, Decision: Go Outside\n"
          ]
        }
      ]
    },
    {
      "cell_type": "code",
      "source": [
        "import tensorflow as tf\n",
        "from tensorflow import keras\n",
        "from tensorflow.keras.datasets import mnist\n",
        "from tensorflow.keras.layers import Dense, Flatten\n",
        "\n",
        "(x_train, y_train), (x_test, y_test) = mnist.load_data()\n",
        "\n",
        "x_train, x_test = x_train / 255.0, x_test / 255.0\n",
        "\n",
        "# Define the model\n",
        "model = keras.Sequential([\n",
        "    Flatten(input_shape=(28, 28)),\n",
        "    Dense(128, activation='relu'),\n",
        "    Dense(10, activation='softmax')\n",
        "])\n",
        "\n",
        "# Compile the model\n",
        "model.compile(optimizer='adam',\n",
        "              loss='sparse_categorical_crossentropy',\n",
        "              metrics=['accuracy'])\n",
        "\n",
        "# Train the model\n",
        "model.fit(x_train, y_train, epochs=10)\n",
        "\n",
        "# Evaluate the model\n",
        "loss, accuracy = model.evaluate(x_test, y_test, verbose=0)\n",
        "print(f\"Test Loss: {loss:.4f}\")\n",
        "print(f\"Test Accuracy: {accuracy:.4f}\")\n",
        "\n",
        "prediction= model.predict(x_test)"
      ],
      "metadata": {
        "colab": {
          "base_uri": "https://localhost:8080/"
        },
        "id": "OcnAszi-ROCW",
        "outputId": "c94b136e-46ef-47ef-8317-a8d5fc8a9c0e"
      },
      "execution_count": 17,
      "outputs": [
        {
          "output_type": "stream",
          "name": "stderr",
          "text": [
            "/usr/local/lib/python3.11/dist-packages/keras/src/layers/reshaping/flatten.py:37: UserWarning: Do not pass an `input_shape`/`input_dim` argument to a layer. When using Sequential models, prefer using an `Input(shape)` object as the first layer in the model instead.\n",
            "  super().__init__(**kwargs)\n"
          ]
        },
        {
          "output_type": "stream",
          "name": "stdout",
          "text": [
            "Epoch 1/10\n",
            "\u001b[1m1875/1875\u001b[0m \u001b[32m━━━━━━━━━━━━━━━━━━━━\u001b[0m\u001b[37m\u001b[0m \u001b[1m9s\u001b[0m 4ms/step - accuracy: 0.8792 - loss: 0.4327\n",
            "Epoch 2/10\n",
            "\u001b[1m1875/1875\u001b[0m \u001b[32m━━━━━━━━━━━━━━━━━━━━\u001b[0m\u001b[37m\u001b[0m \u001b[1m9s\u001b[0m 5ms/step - accuracy: 0.9644 - loss: 0.1215\n",
            "Epoch 3/10\n",
            "\u001b[1m1875/1875\u001b[0m \u001b[32m━━━━━━━━━━━━━━━━━━━━\u001b[0m\u001b[37m\u001b[0m \u001b[1m7s\u001b[0m 4ms/step - accuracy: 0.9764 - loss: 0.0789\n",
            "Epoch 4/10\n",
            "\u001b[1m1875/1875\u001b[0m \u001b[32m━━━━━━━━━━━━━━━━━━━━\u001b[0m\u001b[37m\u001b[0m \u001b[1m10s\u001b[0m 4ms/step - accuracy: 0.9840 - loss: 0.0537\n",
            "Epoch 5/10\n",
            "\u001b[1m1875/1875\u001b[0m \u001b[32m━━━━━━━━━━━━━━━━━━━━\u001b[0m\u001b[37m\u001b[0m \u001b[1m12s\u001b[0m 5ms/step - accuracy: 0.9870 - loss: 0.0430\n",
            "Epoch 6/10\n",
            "\u001b[1m1875/1875\u001b[0m \u001b[32m━━━━━━━━━━━━━━━━━━━━\u001b[0m\u001b[37m\u001b[0m \u001b[1m11s\u001b[0m 5ms/step - accuracy: 0.9902 - loss: 0.0320\n",
            "Epoch 7/10\n",
            "\u001b[1m1875/1875\u001b[0m \u001b[32m━━━━━━━━━━━━━━━━━━━━\u001b[0m\u001b[37m\u001b[0m \u001b[1m10s\u001b[0m 5ms/step - accuracy: 0.9918 - loss: 0.0266\n",
            "Epoch 8/10\n",
            "\u001b[1m1875/1875\u001b[0m \u001b[32m━━━━━━━━━━━━━━━━━━━━\u001b[0m\u001b[37m\u001b[0m \u001b[1m7s\u001b[0m 4ms/step - accuracy: 0.9937 - loss: 0.0212\n",
            "Epoch 9/10\n",
            "\u001b[1m1875/1875\u001b[0m \u001b[32m━━━━━━━━━━━━━━━━━━━━\u001b[0m\u001b[37m\u001b[0m \u001b[1m9s\u001b[0m 5ms/step - accuracy: 0.9951 - loss: 0.0163\n",
            "Epoch 10/10\n",
            "\u001b[1m1875/1875\u001b[0m \u001b[32m━━━━━━━━━━━━━━━━━━━━\u001b[0m\u001b[37m\u001b[0m \u001b[1m8s\u001b[0m 4ms/step - accuracy: 0.9962 - loss: 0.0137\n",
            "Test Loss: 0.0855\n",
            "Test Accuracy: 0.9787\n",
            "\u001b[1m313/313\u001b[0m \u001b[32m━━━━━━━━━━━━━━━━━━━━\u001b[0m\u001b[37m\u001b[0m \u001b[1m1s\u001b[0m 2ms/step\n"
          ]
        }
      ]
    },
    {
      "cell_type": "code",
      "source": [
        "import matplotlib.pyplot as plt\n",
        "\n",
        "\n",
        "def plot_predictions(images, labels, prediction, num_images=5):\n",
        "    plt.figure(figsize=(10, 5))\n",
        "    for i in range(num_images):\n",
        "        plt.subplot(1, num_images, i + 1)\n",
        "        plt.imshow(images[i], cmap='gray')\n",
        "        predicted_label = np.argmax(prediction[i])\n",
        "        actual_label = np.argmax(labels[i])\n",
        "        plt.title(f\"Pred: {predicted_label}\\nActual: {actual_label}\")\n",
        "        plt.axis('off')\n",
        "    plt.show()\n",
        "\n",
        "plot_predictions(x_test, y_test, prediction, num_images=5)"
      ],
      "metadata": {
        "colab": {
          "base_uri": "https://localhost:8080/",
          "height": 213
        },
        "id": "7kyvZ5dxSMM-",
        "outputId": "f34b2deb-ac72-4167-8796-37979698234b"
      },
      "execution_count": 19,
      "outputs": [
        {
          "output_type": "display_data",
          "data": {
            "text/plain": [
              "<Figure size 1000x500 with 5 Axes>"
            ],
            "image/png": "[encoded data removed]"
          },
          "metadata": {}
        }
      ]
    },
    {
      "cell_type": "code",
      "source": [
        "def predict_house_price(square_footage,bedrooms):\n",
        "  w1 = 0.5\n",
        "  w2= 0.7\n",
        "  b = 50000\n",
        "\n",
        "  z = w1*square_footage + w2*bedrooms + b\n",
        "\n",
        "  price_prediction = max(0,z)\n",
        "  return price_prediction\n",
        "\n",
        "x1= 2000\n",
        "x2= 3\n",
        "\n",
        "predicted_price= predict_house_price(x1,x2)\n",
        "\n",
        "print(f\"The predicted price is : {predicted_price}\")"
      ],
      "metadata": {
        "colab": {
          "base_uri": "https://localhost:8080/"
        },
        "id": "q59oBtzWQALM",
        "outputId": "01823fab-8303-4530-c0fa-fbcf25dbf99a"
      },
      "execution_count": 3,
      "outputs": [
        {
          "output_type": "stream",
          "name": "stdout",
          "text": [
            "The predicted price is : 51002.1\n"
          ]
        }
      ]
    },
    {
      "cell_type": "code",
      "source": [
        "import numpy as np\n",
        "\n",
        "# Initialize input data (features)\n",
        "x = np.array([4, 80])  # 4 hours studied, previous test score: 80\n",
        "\n",
        "# Initialize weights and bias\n",
        "w = np.array([0.6, 0.3])  # Initial weights\n",
        "b = 10  # Initial bias\n",
        "\n",
        "# Forward Propagation\n",
        "def forward_propagation(x, w, b):\n",
        "    z = np.dot(x, w) + b  # Weighted sum\n",
        "    return z  # Linear activation (No ReLU here, it's a regression task)\n",
        "\n",
        "# Compute prediction\n",
        "y_pred = forward_propagation(x, w, b)\n",
        "y_true = 85  # Actual exam score\n",
        "\n",
        "# Compute Loss (Mean Squared Error)\n",
        "loss = 0.5 * (y_true - y_pred) ** 2\n",
        "\n",
        "# Compute Gradients\n",
        "grad_w = -(y_true - y_pred) * x  # Partial derivatives with respect to weights\n",
        "grad_b = -(y_true - y_pred)  # Partial derivative with respect to bias\n",
        "\n",
        "# Update Weights and Bias\n",
        "learning_rate = 0.01\n",
        "w_new = w - learning_rate * grad_w\n",
        "b_new = b - learning_rate * grad_b\n",
        "\n",
        "# Print Results\n",
        "print(\"Initial Prediction:\", y_pred)\n",
        "print(\"Loss:\", loss)\n",
        "print(\"Updated Weights:\", w_new)\n",
        "print(\"Updated Bias:\", b_new)"
      ],
      "metadata": {
        "colab": {
          "base_uri": "https://localhost:8080/"
        },
        "id": "3euR1cRERs1z",
        "outputId": "d56812cb-937b-4d8b-9c3a-481f41d28210"
      },
      "execution_count": 12,
      "outputs": [
        {
          "output_type": "stream",
          "name": "stdout",
          "text": [
            "Initial Prediction: 36.4\n",
            "Loss: 1180.98\n",
            "Updated Weights: [ 2.544 39.18 ]\n",
            "Updated Bias: 10.486\n"
          ]
        }
      ]
    },
    {
      "cell_type": "code",
      "source": [
        "import numpy as np\n",
        "\n",
        "# Initialize input data (features)\n",
        "x = np.array([4, 80])  # 4 hours studied, previous test score: 80\n",
        "\n",
        "# Initialize weights and bias\n",
        "w = np.array([0.6, 0.3])  # Initial weights\n",
        "b = 10  # Initial bias\n",
        "\n",
        "# Forward Propagation\n",
        "def forward_propagation(x, w, b):\n",
        "    z = np.dot(x, w) + b  # Weighted sum\n",
        "    return z  # Linear activation (No ReLU here, it's a regression task)\n",
        "\n",
        "# Compute prediction\n",
        "y_pred = forward_propagation(x, w, b)\n",
        "y_true = 85  # Actual exam score\n",
        "\n",
        "# Compute Loss (Mean Squared Error)\n",
        "loss = 0.5 * (y_true - y_pred) ** 2\n",
        "\n",
        "# Compute Gradients\n",
        "grad_w = -(y_true - y_pred) * x  # Partial derivatives with respect to weights\n",
        "grad_b = -(y_true - y_pred)  # Partial derivative with respect to bias\n",
        "\n",
        "# Update Weights and Bias\n",
        "learning_rate = 0.5\n",
        "w_new = w - learning_rate * grad_w\n",
        "b_new = b - learning_rate * grad_b\n",
        "\n",
        "# Print Results\n",
        "print(\"Initial Prediction:\", y_pred)\n",
        "print(\"Loss:\", loss)\n",
        "print(\"Updated Weights:\", w_new)\n",
        "print(\"Updated Bias:\", b_new)"
      ],
      "metadata": {
        "colab": {
          "base_uri": "https://localhost:8080/"
        },
        "id": "kzT4R2PlpLVv",
        "outputId": "3b5ada76-a826-4b68-dd65-718cffc5fce2"
      },
      "execution_count": 20,
      "outputs": [
        {
          "output_type": "stream",
          "name": "stdout",
          "text": [
            "Initial Prediction: 36.4\n",
            "Loss: 1180.98\n",
            "Updated Weights: [  97.8 1944.3]\n",
            "Updated Bias: 34.3\n"
          ]
        }
      ]
    }
  ]
}